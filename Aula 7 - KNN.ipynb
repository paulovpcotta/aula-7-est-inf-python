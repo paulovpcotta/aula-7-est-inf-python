{
 "cells": [
  {
   "cell_type": "code",
   "execution_count": 2,
   "metadata": {},
   "outputs": [
    {
     "name": "stdout",
     "output_type": "stream",
     "text": [
      "Model Accuracy: 0.9777777777777777\n",
      "Prediction for [[5, 2, 4, 1], [6, 3, 5, 2], [5, 4, 1, 0.5]] => \n",
      "['versicolor', 'virginica', 'setosa']\n"
     ]
    }
   ],
   "source": [
    "from sklearn.datasets import load_iris\n",
    "from sklearn.model_selection import train_test_split\n",
    "from sklearn.neighbors import KNeighborsClassifier\n",
    "from sklearn import metrics\n",
    "from joblib import dump, load\n",
    "\n",
    "class BasicIrisClassifier:\n",
    "    def load(self):\n",
    "        iris = load_iris()\n",
    "        self.data = iris.data\n",
    "        self.target = iris.target\n",
    "        self.target_names = iris.target_names\n",
    "\n",
    "    def train(self):\n",
    "        data_train, data_test, target_train, target_test = train_test_split(self.data, self.target, test_size=0.3, random_state=12)\n",
    "\n",
    "        self.classifier = KNeighborsClassifier()\n",
    "        self.classifier.fit(data_train, target_train)\n",
    "\n",
    "        target_pred = self.classifier.predict(data_test)\n",
    "        accuracy = metrics.accuracy_score(target_test, target_pred)\n",
    "\n",
    "        return accuracy\n",
    "\n",
    "    def predict(self, external_input_sample):\n",
    "        prediction_raw_values = self.classifier.predict(external_input_sample)\n",
    "        prediction_resolved_values = [self.target_names[p] for p in prediction_raw_values]\n",
    "        return prediction_resolved_values\n",
    "\n",
    "    def saveModel(self):\n",
    "        dump(self.classifier, 'trained_iris_model.pkl')\n",
    "        dump(self.target_names, 'trained_iris_model_targetNames.pkl')\n",
    "\n",
    "    def loadModel(self):\n",
    "        self.classifier = load('trained_iris_model.pkl')\n",
    "        self.target_names = load('trained_iris_model_targetNames.pkl')\n",
    "\n",
    "# Using BasicIrisClassifier\n",
    "external_input_sample = [[5, 2, 4, 1], [6, 3, 5, 2], [5, 4, 1, 0.5]]\n",
    "basic_iris_classifier = BasicIrisClassifier()\n",
    "\n",
    "basic_iris_classifier.load()\n",
    "\n",
    "accuracy = basic_iris_classifier.train()\n",
    "print(\"Model Accuracy:\", accuracy)\n",
    "\n",
    "prediction = basic_iris_classifier.predict(external_input_sample)\n",
    "print(\"Prediction for {0} => \\n{1}\".format(external_input_sample, prediction))\n",
    "\n",
    "basic_iris_classifier.saveModel()"
   ]
  }
 ],
 "metadata": {
  "kernelspec": {
   "display_name": "Python 3",
   "language": "python",
   "name": "python3"
  },
  "language_info": {
   "codemirror_mode": {
    "name": "ipython",
    "version": 3
   },
   "file_extension": ".py",
   "mimetype": "text/x-python",
   "name": "python",
   "nbconvert_exporter": "python",
   "pygments_lexer": "ipython3",
   "version": "3.6.9"
  }
 },
 "nbformat": 4,
 "nbformat_minor": 2
}
